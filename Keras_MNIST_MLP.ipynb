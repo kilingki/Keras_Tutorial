{
  "nbformat": 4,
  "nbformat_minor": 0,
  "metadata": {
    "colab": {
      "name": "Keras_MNIST_MLP.ipynb",
      "provenance": [],
      "collapsed_sections": []
    },
    "kernelspec": {
      "name": "python3",
      "display_name": "Python 3"
    },
    "accelerator": "GPU"
  },
  "cells": [
    {
      "cell_type": "code",
      "metadata": {
        "id": "C-J_Ryv9Iuhb",
        "colab_type": "code",
        "outputId": "683daaca-d0d1-4fb1-aab7-ea4e001b93f8",
        "colab": {
          "base_uri": "https://localhost:8080/",
          "height": 35
        }
      },
      "source": [
        "# Keras 라이브러리 불러오기\n",
        "\n",
        "# 숫자를 One-Hot Vector로 만들어주는 라이브러리\n",
        "from keras.utils import np_utils\n",
        "\n",
        "# MNIST Dataset을 가져오기 위한 라이브러리\n",
        "from keras.datasets import mnist\n",
        "\n",
        "# 딥 러닝 모델을 순차적으로 만들기 위한 라이브러리\n",
        "from keras.models import Sequential\n",
        "\n",
        "# Dense : MLP층, Activation : 활성화 함수\n",
        "from keras.layers import Dense, Activation\n",
        "\n",
        "import numpy as np # 행렬 계산을 위한 넘파이 라이브러리\n",
        "import cv2 # 이미지 처리를 위한 OpenCV 라이브러리\n",
        "from google.colab.patches import cv2_imshow # Google Colab에서 이미지를 보기 위한 함수"
      ],
      "execution_count": 0,
      "outputs": [
        {
          "output_type": "stream",
          "text": [
            "Using TensorFlow backend.\n"
          ],
          "name": "stderr"
        }
      ]
    },
    {
      "cell_type": "code",
      "metadata": {
        "id": "H2q3r-MsJGr9",
        "colab_type": "code",
        "outputId": "d8578f4b-4ca8-4be4-f512-e37613b74934",
        "colab": {
          "base_uri": "https://localhost:8080/",
          "height": 369
        }
      },
      "source": [
        "# Dataset 구성\n",
        "\n",
        "# MNIST Dataset이 저장되어 있는 어딘가에서 MNIST Dataset을 가져옵니다\n",
        "(x_train, y_train), (x_test, y_test) = mnist.load_data()\n",
        "\n",
        "# Training Set의 모양을 한번 봅시다\n",
        "print('x_train :', np.shape(x_train))\n",
        "print('y_train :', np.shape(y_train))\n",
        "\n",
        "# 한 번 Dataset에 무엇이 들어있는지 Test Set의 10개만 봅시다\n",
        "for i in range(10):\n",
        "  cv2_imshow(x_test[i])"
      ],
      "execution_count": 0,
      "outputs": [
        {
          "output_type": "stream",
          "text": [
            "Downloading data from https://s3.amazonaws.com/img-datasets/mnist.npz\n",
            "11493376/11490434 [==============================] - 0s 0us/step\n",
            "x_train : (60000, 28, 28)\n",
            "y_train : (60000,)\n"
          ],
          "name": "stdout"
        },
        {
          "output_type": "display_data",
          "data": {
            "image/png": "[encoded data removed]",
            "text/plain": [
              "<PIL.Image.Image image mode=L size=28x28 at 0x7F820C8B0898>"
            ]
          },
          "metadata": {
            "tags": []
          }
        },
        {
          "output_type": "display_data",
          "data": {
            "image/png": "[encoded data removed]",
            "text/plain": [
              "<PIL.Image.Image image mode=L size=28x28 at 0x7F820C8BC048>"
            ]
          },
          "metadata": {
            "tags": []
          }
        },
        {
          "output_type": "display_data",
          "data": {
            "image/png": "[encoded data removed]",
            "text/plain": [
              "<PIL.Image.Image image mode=L size=28x28 at 0x7F820C8B0898>"
            ]
          },
          "metadata": {
            "tags": []
          }
        },
        {
          "output_type": "display_data",
          "data": {
            "image/png": "[encoded data removed]",
            "text/plain": [
              "<PIL.Image.Image image mode=L size=28x28 at 0x7F820C8BC048>"
            ]
          },
          "metadata": {
            "tags": []
          }
        },
        {
          "output_type": "display_data",
          "data": {
            "image/png": "[encoded data removed]",
            "text/plain": [
              "<PIL.Image.Image image mode=L size=28x28 at 0x7F820C8B0898>"
            ]
          },
          "metadata": {
            "tags": []
          }
        },
        {
          "output_type": "display_data",
          "data": {
            "image/png": "[encoded data removed]",
            "text/plain": [
              "<PIL.Image.Image image mode=L size=28x28 at 0x7F820C8BC048>"
            ]
          },
          "metadata": {
            "tags": []
          }
        },
        {
          "output_type": "display_data",
          "data": {
            "image/png": "[encoded data removed]",
            "text/plain": [
              "<PIL.Image.Image image mode=L size=28x28 at 0x7F820C8B0898>"
            ]
          },
          "metadata": {
            "tags": []
          }
        },
        {
          "output_type": "display_data",
          "data": {
            "image/png": "[encoded data removed]",
            "text/plain": [
              "<PIL.Image.Image image mode=L size=28x28 at 0x7F820C8BC048>"
            ]
          },
          "metadata": {
            "tags": []
          }
        },
        {
          "output_type": "display_data",
          "data": {
            "image/png": "[encoded data removed]",
            "text/plain": [
              "<PIL.Image.Image image mode=L size=28x28 at 0x7F820C8B0898>"
            ]
          },
          "metadata": {
            "tags": []
          }
        },
        {
          "output_type": "display_data",
          "data": {
            "image/png": "[encoded data removed]",
            "text/plain": [
              "<PIL.Image.Image image mode=L size=28x28 at 0x7F820C8BC048>"
            ]
          },
          "metadata": {
            "tags": []
          }
        }
      ]
    },
    {
      "cell_type": "code",
      "metadata": {
        "id": "XmVRMIvmbidS",
        "colab_type": "code",
        "outputId": "fd552886-6a39-42f8-fe2f-3c09ddf388fe",
        "colab": {
          "base_uri": "https://localhost:8080/",
          "height": 89
        }
      },
      "source": [
        "# Dataset 전처리\n",
        "\n",
        "# 픽셀 값을 0~255 범위에서 0~1 범위로 낮춰줍니다 / 오차 값을 적절한 범위에 맞추기 위함\n",
        "# astype('float32') : int(정수)를 float(실수)로 바꾸어줍니다.\n",
        "x_train = x_train.reshape(60000, 784).astype('float32') / 255.0\n",
        "x_test = x_test.reshape(10000, 784).astype('float32') / 255.0\n",
        "\n",
        "# 0 ~ 9 사이의 숫자를 One-Hot Vector로 바꿔줍니다\n",
        "y_train = np_utils.to_categorical(y_train)\n",
        "y_test = np_utils.to_categorical(y_test)\n",
        "\n",
        "print('y_train :', np.shape(y_train))\n",
        "print('y_train[0] :', y_train[0])\n",
        "\n",
        "# Validation Set이 없으므로 60000개의 Train Set 중 10000개를 떼서 만듭니다\n",
        "x_valid = x_train[50000:]\n",
        "y_valid = y_train[50000:]\n",
        "x_train = x_train[:50000]\n",
        "y_train = y_train[:50000]\n",
        "\n",
        "print('x_train :', np.shape(x_train))\n",
        "print('x_valid :', np.shape(x_valid))"
      ],
      "execution_count": 0,
      "outputs": [
        {
          "output_type": "stream",
          "text": [
            "y_train : (60000, 10)\n",
            "y_train[0] : [0. 0. 0. 0. 0. 1. 0. 0. 0. 0.]\n",
            "x_train : (50000, 784)\n",
            "x_valid : (10000, 784)\n"
          ],
          "name": "stdout"
        }
      ]
    },
    {
      "cell_type": "code",
      "metadata": {
        "id": "P6QY5RZ_JKST",
        "colab_type": "code",
        "outputId": "550ede1d-d295-4388-a21c-e42ea6ebd7ce",
        "colab": {
          "base_uri": "https://localhost:8080/",
          "height": 379
        }
      },
      "source": [
        "# 모델 구성하기\n",
        "\n",
        "# Sequential() 함수를 통해 빈 모델을 만듭니다\n",
        "model = Sequential(name = 'MNIST_MLP')\n",
        "\n",
        "# add() 함수를 통해 층을 더해 나갑니다\n",
        "# Dense() 는 MLP의 한 층을 의미합니다\n",
        "\n",
        "model.add(Dense(units=256, input_dim=784, activation='relu', name = 'Dense_1'))\n",
        "# input_dim : 첫 번째 층 외엔 생략 가능하며, 입력으로 들어올 데이터의 모양을 의미합니다\n",
        "# units : 층의 노드 수를 의미하며, 출력의 수와 같습니다.\n",
        "\n",
        "model.add(Dense(units=64, activation='relu', name = 'Dense_2'))\n",
        "model.add(Dense(units=10, activation='softmax', name = 'Dense_3'))\n",
        "\n",
        "# 모델이 어떻게 구성되어 있는지 볼 수 있습니다.\n",
        "model.summary()\n",
        "\n",
        "# Tensorflow Version 차이로 인해 몇 가지 무시 가능한 경고 문구가 뜰 수 있습니다\n",
        "# Param # 은 해당 층의 파라미터(가중치, 바이어스) 수를 나타냅니다"
      ],
      "execution_count": 0,
      "outputs": [
        {
          "output_type": "stream",
          "text": [
            "WARNING: Logging before flag parsing goes to stderr.\n",
            "W0903 15:49:28.785776 140198177101696 deprecation_wrapper.py:119] From /usr/local/lib/python3.6/dist-packages/keras/backend/tensorflow_backend.py:541: The name tf.placeholder is deprecated. Please use tf.compat.v1.placeholder instead.\n",
            "\n",
            "W0903 15:49:28.841512 140198177101696 deprecation_wrapper.py:119] From /usr/local/lib/python3.6/dist-packages/keras/backend/tensorflow_backend.py:4432: The name tf.random_uniform is deprecated. Please use tf.random.uniform instead.\n",
            "\n"
          ],
          "name": "stderr"
        },
        {
          "output_type": "stream",
          "text": [
            "Model: \"MNIST_MLP\"\n",
            "_________________________________________________________________\n",
            "Layer (type)                 Output Shape              Param #   \n",
            "=================================================================\n",
            "Dense_1 (Dense)              (None, 256)               200960    \n",
            "_________________________________________________________________\n",
            "Dense_2 (Dense)              (None, 64)                16448     \n",
            "_________________________________________________________________\n",
            "Dense_3 (Dense)              (None, 10)                650       \n",
            "=================================================================\n",
            "Total params: 218,058\n",
            "Trainable params: 218,058\n",
            "Non-trainable params: 0\n",
            "_________________________________________________________________\n"
          ],
          "name": "stdout"
        }
      ]
    },
    {
      "cell_type": "code",
      "metadata": {
        "id": "cQj0_1x6oyoj",
        "colab_type": "code",
        "outputId": "9596a240-9a97-486c-bfc2-3a9d0782f598",
        "colab": {
          "base_uri": "https://localhost:8080/",
          "height": 613
        }
      },
      "source": [
        "# 모델 학습 과정을 설정합니다\n",
        "\n",
        "# loss는 목적 함수를 의미하며, categorical_crossentropy는 분류가 2개 이상인 CEE를 의미합니다\n",
        "# optimizer는 학습 방법을 의미하며, SGD를 사용합니다\n",
        "# metrics는 학습 도중 화면에 어떤 값을 띄울까를 결정합니다\n",
        "model.compile(loss='categorical_crossentropy', optimizer='sgd', metrics=['accuracy'])\n",
        "\n",
        "# 그 후 모델을 학습시킵니다\n",
        "\n",
        "# fit() 함수를 통해 실제로 학습 가능합니다.\n",
        "# fit() 함수는 학습 결과를 기록하여 반환하기 때문에 hist에 그 기록이 저장됩니다\n",
        "hist = model.fit(x = x_train, y = y_train, # Training Dataset\n",
        "                 epochs = 10, # Epochs : Training과 Validation 반복 수 \n",
        "                 verbose = 1, # 화면에 정보를 얼마나 출력할지 결정합니다\n",
        "                 validation_data = (x_valid, y_valid), # Validation Dataset\n",
        "                 batch_size=32 # Mini-batch 크기 설정\n",
        "                )"
      ],
      "execution_count": 0,
      "outputs": [
        {
          "output_type": "stream",
          "text": [
            "W0903 15:49:33.451788 140198177101696 deprecation_wrapper.py:119] From /usr/local/lib/python3.6/dist-packages/keras/optimizers.py:793: The name tf.train.Optimizer is deprecated. Please use tf.compat.v1.train.Optimizer instead.\n",
            "\n",
            "W0903 15:49:33.486984 140198177101696 deprecation_wrapper.py:119] From /usr/local/lib/python3.6/dist-packages/keras/backend/tensorflow_backend.py:3576: The name tf.log is deprecated. Please use tf.math.log instead.\n",
            "\n",
            "W0903 15:49:33.624682 140198177101696 deprecation.py:323] From /usr/local/lib/python3.6/dist-packages/tensorflow/python/ops/math_grad.py:1250: add_dispatch_support.<locals>.wrapper (from tensorflow.python.ops.array_ops) is deprecated and will be removed in a future version.\n",
            "Instructions for updating:\n",
            "Use tf.where in 2.0, which has the same broadcast rule as np.where\n",
            "W0903 15:49:33.688974 140198177101696 deprecation_wrapper.py:119] From /usr/local/lib/python3.6/dist-packages/keras/backend/tensorflow_backend.py:1033: The name tf.assign_add is deprecated. Please use tf.compat.v1.assign_add instead.\n",
            "\n",
            "W0903 15:49:33.791991 140198177101696 deprecation_wrapper.py:119] From /usr/local/lib/python3.6/dist-packages/keras/backend/tensorflow_backend.py:1020: The name tf.assign is deprecated. Please use tf.compat.v1.assign instead.\n",
            "\n"
          ],
          "name": "stderr"
        },
        {
          "output_type": "stream",
          "text": [
            "Train on 50000 samples, validate on 10000 samples\n",
            "Epoch 1/10\n",
            "50000/50000 [==============================] - 12s 234us/step - loss: 0.6404 - acc: 0.8351 - val_loss: 0.3137 - val_acc: 0.9129\n",
            "Epoch 2/10\n",
            "50000/50000 [==============================] - 7s 140us/step - loss: 0.3031 - acc: 0.9129 - val_loss: 0.2493 - val_acc: 0.9284\n",
            "Epoch 3/10\n",
            "50000/50000 [==============================] - 7s 138us/step - loss: 0.2490 - acc: 0.9284 - val_loss: 0.2133 - val_acc: 0.9415\n",
            "Epoch 4/10\n",
            "50000/50000 [==============================] - 7s 142us/step - loss: 0.2139 - acc: 0.9382 - val_loss: 0.1911 - val_acc: 0.9480\n",
            "Epoch 5/10\n",
            "50000/50000 [==============================] - 7s 140us/step - loss: 0.1872 - acc: 0.9461 - val_loss: 0.1716 - val_acc: 0.9518\n",
            "Epoch 6/10\n",
            "50000/50000 [==============================] - 7s 138us/step - loss: 0.1669 - acc: 0.9517 - val_loss: 0.1564 - val_acc: 0.9568\n",
            "Epoch 7/10\n",
            "50000/50000 [==============================] - 7s 137us/step - loss: 0.1500 - acc: 0.9577 - val_loss: 0.1475 - val_acc: 0.9590\n",
            "Epoch 8/10\n",
            "50000/50000 [==============================] - 7s 141us/step - loss: 0.1361 - acc: 0.9611 - val_loss: 0.1427 - val_acc: 0.9610\n",
            "Epoch 9/10\n",
            "50000/50000 [==============================] - 7s 144us/step - loss: 0.1240 - acc: 0.9656 - val_loss: 0.1360 - val_acc: 0.9618\n",
            "Epoch 10/10\n",
            "50000/50000 [==============================] - 7s 146us/step - loss: 0.1139 - acc: 0.9683 - val_loss: 0.1235 - val_acc: 0.9663\n"
          ],
          "name": "stdout"
        }
      ]
    },
    {
      "cell_type": "code",
      "metadata": {
        "id": "5kz3hUVCJOrd",
        "colab_type": "code",
        "outputId": "76974821-40e8-4935-dbd6-80f5f9c6e18e",
        "colab": {
          "base_uri": "https://localhost:8080/",
          "height": 325
        }
      },
      "source": [
        "# 학습과정 살펴보기\n",
        "\n",
        "# hist는 Epoch 마다의 목적함수의 값과 정확도를 기록하고 있습니다\n",
        "print('Training Loss :', hist.history['loss'])\n",
        "print('Accuracy :',hist.history['acc'])\n",
        "\n",
        "# hist에 저장된 값을 그래프로 나타내기 위한 matplotlib 라이브러리\n",
        "import matplotlib.pyplot as plt\n",
        "\n",
        "# 1~10 의 자연수를 갖는 리스트를 만듭니다\n",
        "epoch_list = np.arange(0,10)\n",
        "\n",
        "# epoch에 따른 Training set에 대한 목적함수 값 변화를 그립니다\n",
        "plt.plot(epoch_list, hist.history['loss'], 'o', color='blue')\n",
        "\n",
        "# epoch에 따른 Validation set에 대한 목적함수 값 변화를 그립니다\n",
        "plt.plot(epoch_list, hist.history['val_loss'], 'o', color='red')\n",
        "\n",
        "# 그래프 나타내기\n",
        "plt.show()"
      ],
      "execution_count": 0,
      "outputs": [
        {
          "output_type": "stream",
          "text": [
            "Training Loss : [0.6403701652812958, 0.30314658852100373, 0.24896895043373107, 0.2138630971837044, 0.18717725287795067, 0.16688006976902484, 0.149953324457407, 0.1361271092736721, 0.12401307658612729, 0.11385390907227994]\n",
            "Accuracy : [0.83506, 0.91288, 0.9284, 0.93822, 0.94606, 0.95166, 0.95766, 0.96114, 0.96556, 0.96826]\n"
          ],
          "name": "stdout"
        },
        {
          "output_type": "display_data",
          "data": {
            "image/png": "[encoded data removed]",
            "text/plain": [
              "<Figure size 432x288 with 1 Axes>"
            ]
          },
          "metadata": {
            "tags": []
          }
        }
      ]
    },
    {
      "cell_type": "code",
      "metadata": {
        "id": "o_AaTyME3U0D",
        "colab_type": "code",
        "outputId": "d7064be4-f85a-434c-ebea-e7a1bd3ed266",
        "colab": {
          "base_uri": "https://localhost:8080/",
          "height": 269
        }
      },
      "source": [
        "# epoch에 따른 Training set에 대한 정확도 변화를 그립니다\n",
        "plt.plot(epoch_list, hist.history['acc'], 'o', color='green')\n",
        "\n",
        "# epoch에 따른 Validation set에 대한 정확도 값 변화를 그립니다\n",
        "plt.plot(epoch_list, hist.history['val_acc'], 'o', color='black')\n",
        "\n",
        "plt.show()"
      ],
      "execution_count": 0,
      "outputs": [
        {
          "output_type": "display_data",
          "data": {
            "image/png": "[encoded data removed]",
            "text/plain": [
              "<Figure size 432x288 with 1 Axes>"
            ]
          },
          "metadata": {
            "tags": []
          }
        }
      ]
    },
    {
      "cell_type": "code",
      "metadata": {
        "id": "ssMe67UlJSH4",
        "colab_type": "code",
        "outputId": "280165cb-38d1-4f92-9c1e-9335e6b59a19",
        "colab": {
          "base_uri": "https://localhost:8080/",
          "height": 71
        }
      },
      "source": [
        "# 모델 테스트\n",
        "\n",
        "# Test Set으로 모델을 테스트해봅니다\n",
        "# evaluate() 함수를 통해 테스트가 가능합니다\n",
        "loss_acc = model.evaluate(x_test, y_test, batch_size=32)\n",
        "\n",
        "print('Test Set Loss :', loss_acc[0])\n",
        "print('Test Set Accuracy :', loss_acc[1])"
      ],
      "execution_count": 0,
      "outputs": [
        {
          "output_type": "stream",
          "text": [
            "10000/10000 [==============================] - 1s 53us/step\n",
            "Test Set Loss : 0.12115066864788532\n",
            "Test Set Accuracy : 0.9651\n"
          ],
          "name": "stdout"
        }
      ]
    },
    {
      "cell_type": "code",
      "metadata": {
        "id": "eKpop4SfJTsc",
        "colab_type": "code",
        "outputId": "a31168ee-6381-479e-cad3-1a701449201d",
        "colab": {
          "base_uri": "https://localhost:8080/",
          "height": 955
        }
      },
      "source": [
        "# 모델을 직접 써봅시다\n",
        "\n",
        "# Test Set 20개를 맞춰봅시다\n",
        "for i in range(20):\n",
        "  \n",
        "  # predict()를 통해 입력을 모델에 통과시킬 수 있습니다\n",
        "  # output은 softmax의 출력으로 10개의 값을 갖습니다\n",
        "  output = model.predict(x_test[i].reshape(1,784))\n",
        "  # predict()의 입력은 맨 앞에 차원을 하나 추가해주어야 합니다\n",
        "  \n",
        "  # 이미지를 보기 위해 다시 사각형으로 만들고, 다시 255를 곱해줍니다\n",
        "  cv2_imshow(x_test[i].reshape(28, 28) * 255)\n",
        "  \n",
        "  # argmax() 함수는 가장 최댓값을 갖는 Index(번째)를 찾아줍니다\n",
        "  print('예상 숫자 분류 :', np.argmax(output))\n",
        "  \n",
        "  # 모델의 출력과 실제 값을 비교 후 다르면 문장을 출력합니다\n",
        "  if np.argmax(output) != np.argmax(y_test[i]) :\n",
        "    print('틀렸습니다!')"
      ],
      "execution_count": 0,
      "outputs": [
        {
          "output_type": "display_data",
          "data": {
            "image/png": "[encoded data removed]",
            "text/plain": [
              "<PIL.Image.Image image mode=L size=28x28 at 0x7F81B8CB0BA8>"
            ]
          },
          "metadata": {
            "tags": []
          }
        },
        {
          "output_type": "stream",
          "text": [
            "예상 숫자 분류 : 7\n"
          ],
          "name": "stdout"
        },
        {
          "output_type": "display_data",
          "data": {
            "image/png": "[encoded data removed]",
            "text/plain": [
              "<PIL.Image.Image image mode=L size=28x28 at 0x7F81B8CB08D0>"
            ]
          },
          "metadata": {
            "tags": []
          }
        },
        {
          "output_type": "stream",
          "text": [
            "예상 숫자 분류 : 2\n"
          ],
          "name": "stdout"
        },
        {
          "output_type": "display_data",
          "data": {
            "image/png": "[encoded data removed]",
            "text/plain": [
              "<PIL.Image.Image image mode=L size=28x28 at 0x7F81B8CB09E8>"
            ]
          },
          "metadata": {
            "tags": []
          }
        },
        {
          "output_type": "stream",
          "text": [
            "예상 숫자 분류 : 1\n"
          ],
          "name": "stdout"
        },
        {
          "output_type": "display_data",
          "data": {
            "image/png": "[encoded data removed]",
            "text/plain": [
              "<PIL.Image.Image image mode=L size=28x28 at 0x7F81B8CB0C50>"
            ]
          },
          "metadata": {
            "tags": []
          }
        },
        {
          "output_type": "stream",
          "text": [
            "예상 숫자 분류 : 0\n"
          ],
          "name": "stdout"
        },
        {
          "output_type": "display_data",
          "data": {
            "image/png": "[encoded data removed]",
            "text/plain": [
              "<PIL.Image.Image image mode=L size=28x28 at 0x7F81B8CB0940>"
            ]
          },
          "metadata": {
            "tags": []
          }
        },
        {
          "output_type": "stream",
          "text": [
            "예상 숫자 분류 : 4\n"
          ],
          "name": "stdout"
        },
        {
          "output_type": "display_data",
          "data": {
            "image/png": "[encoded data removed]",
            "text/plain": [
              "<PIL.Image.Image image mode=L size=28x28 at 0x7F81B8CB0160>"
            ]
          },
          "metadata": {
            "tags": []
          }
        },
        {
          "output_type": "stream",
          "text": [
            "예상 숫자 분류 : 1\n"
          ],
          "name": "stdout"
        },
        {
          "output_type": "display_data",
          "data": {
            "image/png": "[encoded data removed]",
            "text/plain": [
              "<PIL.Image.Image image mode=L size=28x28 at 0x7F81B8CB0438>"
            ]
          },
          "metadata": {
            "tags": []
          }
        },
        {
          "output_type": "stream",
          "text": [
            "예상 숫자 분류 : 4\n"
          ],
          "name": "stdout"
        },
        {
          "output_type": "display_data",
          "data": {
            "image/png": "[encoded data removed]",
            "text/plain": [
              "<PIL.Image.Image image mode=L size=28x28 at 0x7F81B8CB0278>"
            ]
          },
          "metadata": {
            "tags": []
          }
        },
        {
          "output_type": "stream",
          "text": [
            "예상 숫자 분류 : 9\n"
          ],
          "name": "stdout"
        },
        {
          "output_type": "display_data",
          "data": {
            "image/png": "[encoded data removed]",
            "text/plain": [
              "<PIL.Image.Image image mode=L size=28x28 at 0x7F81B8CB06D8>"
            ]
          },
          "metadata": {
            "tags": []
          }
        },
        {
          "output_type": "stream",
          "text": [
            "예상 숫자 분류 : 6\n",
            "틀렸습니다!\n"
          ],
          "name": "stdout"
        },
        {
          "output_type": "display_data",
          "data": {
            "image/png": "[encoded data removed]",
            "text/plain": [
              "<PIL.Image.Image image mode=L size=28x28 at 0x7F81B8CB0710>"
            ]
          },
          "metadata": {
            "tags": []
          }
        },
        {
          "output_type": "stream",
          "text": [
            "예상 숫자 분류 : 9\n"
          ],
          "name": "stdout"
        },
        {
          "output_type": "display_data",
          "data": {
            "image/png": "[encoded data removed]",
            "text/plain": [
              "<PIL.Image.Image image mode=L size=28x28 at 0x7F81B8CB0208>"
            ]
          },
          "metadata": {
            "tags": []
          }
        },
        {
          "output_type": "stream",
          "text": [
            "예상 숫자 분류 : 0\n"
          ],
          "name": "stdout"
        },
        {
          "output_type": "display_data",
          "data": {
            "image/png": "[encoded data removed]",
            "text/plain": [
              "<PIL.Image.Image image mode=L size=28x28 at 0x7F81B8CB04E0>"
            ]
          },
          "metadata": {
            "tags": []
          }
        },
        {
          "output_type": "stream",
          "text": [
            "예상 숫자 분류 : 6\n"
          ],
          "name": "stdout"
        },
        {
          "output_type": "display_data",
          "data": {
            "image/png": "[encoded data removed]",
            "text/plain": [
              "<PIL.Image.Image image mode=L size=28x28 at 0x7F81B8CB03C8>"
            ]
          },
          "metadata": {
            "tags": []
          }
        },
        {
          "output_type": "stream",
          "text": [
            "예상 숫자 분류 : 9\n"
          ],
          "name": "stdout"
        },
        {
          "output_type": "display_data",
          "data": {
            "image/png": "[encoded data removed]",
            "text/plain": [
              "<PIL.Image.Image image mode=L size=28x28 at 0x7F81B8CB0668>"
            ]
          },
          "metadata": {
            "tags": []
          }
        },
        {
          "output_type": "stream",
          "text": [
            "예상 숫자 분류 : 0\n"
          ],
          "name": "stdout"
        },
        {
          "output_type": "display_data",
          "data": {
            "image/png": "[encoded data removed]",
            "text/plain": [
              "<PIL.Image.Image image mode=L size=28x28 at 0x7F81B8CB05C0>"
            ]
          },
          "metadata": {
            "tags": []
          }
        },
        {
          "output_type": "stream",
          "text": [
            "예상 숫자 분류 : 1\n"
          ],
          "name": "stdout"
        },
        {
          "output_type": "display_data",
          "data": {
            "image/png": "[encoded data removed]",
            "text/plain": [
              "<PIL.Image.Image image mode=L size=28x28 at 0x7F81B8CB0588>"
            ]
          },
          "metadata": {
            "tags": []
          }
        },
        {
          "output_type": "stream",
          "text": [
            "예상 숫자 분류 : 5\n"
          ],
          "name": "stdout"
        },
        {
          "output_type": "display_data",
          "data": {
            "image/png": "[encoded data removed]",
            "text/plain": [
              "<PIL.Image.Image image mode=L size=28x28 at 0x7F81B8CB02E8>"
            ]
          },
          "metadata": {
            "tags": []
          }
        },
        {
          "output_type": "stream",
          "text": [
            "예상 숫자 분류 : 9\n"
          ],
          "name": "stdout"
        },
        {
          "output_type": "display_data",
          "data": {
            "image/png": "[encoded data removed]",
            "text/plain": [
              "<PIL.Image.Image image mode=L size=28x28 at 0x7F81B8CB0048>"
            ]
          },
          "metadata": {
            "tags": []
          }
        },
        {
          "output_type": "stream",
          "text": [
            "예상 숫자 분류 : 7\n"
          ],
          "name": "stdout"
        },
        {
          "output_type": "display_data",
          "data": {
            "image/png": "[encoded data removed]",
            "text/plain": [
              "<PIL.Image.Image image mode=L size=28x28 at 0x7F81B8CB0E10>"
            ]
          },
          "metadata": {
            "tags": []
          }
        },
        {
          "output_type": "stream",
          "text": [
            "예상 숫자 분류 : 3\n"
          ],
          "name": "stdout"
        },
        {
          "output_type": "display_data",
          "data": {
            "image/png": "[encoded data removed]",
            "text/plain": [
              "<PIL.Image.Image image mode=L size=28x28 at 0x7F81B8CD4080>"
            ]
          },
          "metadata": {
            "tags": []
          }
        },
        {
          "output_type": "stream",
          "text": [
            "예상 숫자 분류 : 4\n"
          ],
          "name": "stdout"
        }
      ]
    },
    {
      "cell_type": "code",
      "metadata": {
        "id": "M3F6AWVvpi5u",
        "colab_type": "code",
        "colab": {}
      },
      "source": [
        "# 본인의 구글 드라이브 → 지금 실행중인 코드\n",
        "\n",
        "# google.colab.drive : 구글 드라이브에서 파일을 가져오기 위한 코드를 담고 있다.\n",
        "from google.colab import drive\n",
        "\n",
        "# 본인의 구글 드라이브를 '/gdrive' 라는 경로로 하여 쓸 수 있다.\n",
        "drive.mount('/gdrive', force_remount=True)"
      ],
      "execution_count": 0,
      "outputs": []
    },
    {
      "cell_type": "code",
      "metadata": {
        "id": "gcJqbuaBpqit",
        "colab_type": "code",
        "outputId": "306926a5-2168-42df-91ea-f1b2682e8d2d",
        "colab": {
          "base_uri": "https://localhost:8080/",
          "height": 35
        }
      },
      "source": [
        "# 모델은 h5 파일 형태로 저장됩니다\n",
        "model.save('/gdrive/My Drive/MNIST_MLP.h5')\n",
        "\n",
        "# 모델을 불러오기 위해 지워줍니다\n",
        "del model\n",
        "\n",
        "# 저장되어 있는 모델을 불러오기 위한 load_model 함수\n",
        "from keras.models import load_model\n",
        "\n",
        "# 'model' 에 해당 모델을 불러옵니다\n",
        "model = load_model('/gdrive/My Drive/MNIST_MLP.h5')"
      ],
      "execution_count": 0,
      "outputs": [
        {
          "output_type": "stream",
          "text": [
            "Using TensorFlow backend.\n"
          ],
          "name": "stderr"
        }
      ]
    }
  ]
}