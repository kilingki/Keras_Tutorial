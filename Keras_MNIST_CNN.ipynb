{
  "nbformat": 4,
  "nbformat_minor": 0,
  "metadata": {
    "colab": {
      "name": "Keras_MNIST_CNN.ipynb",
      "provenance": [],
      "collapsed_sections": []
    },
    "kernelspec": {
      "name": "python3",
      "display_name": "Python 3"
    },
    "accelerator": "GPU"
  },
  "cells": [
    {
      "cell_type": "code",
      "metadata": {
        "id": "OtkgjKwvg20v",
        "colab_type": "code",
        "outputId": "32657b38-1ee9-459a-ee76-9eb5411686d1",
        "colab": {
          "base_uri": "https://localhost:8080/",
          "height": 35
        }
      },
      "source": [
        "# 사용할 라이브러리 불러오기\n",
        "import numpy as np\n",
        "\n",
        "# 숫자 -> One-hot Vector 를 위한 라이브러리\n",
        "from keras.utils import np_utils\n",
        "\n",
        "# MNIST Dataset을 가져오기 위한 라이브러리\n",
        "from keras.datasets import mnist\n",
        "\n",
        "# 순차적인 모델을 만들기 위한 Sequential 함수\n",
        "from keras.models import Sequential\n",
        "\n",
        "# 필요한 층들을 가지고 있는 layers 라이브러리\n",
        "from keras.layers import Dense, Activation\n",
        "from keras.layers import Conv2D, MaxPooling2D, Flatten\n",
        "\n",
        "# Google Colab에서 이미지를 보기 위한 cv2_imshow 함수\n",
        "from google.colab.patches import cv2_imshow "
      ],
      "execution_count": 0,
      "outputs": [
        {
          "output_type": "stream",
          "text": [
            "Using TensorFlow backend.\n"
          ],
          "name": "stderr"
        }
      ]
    },
    {
      "cell_type": "code",
      "metadata": {
        "id": "WLZn3z8Phc8t",
        "colab_type": "code",
        "outputId": "c8069154-30b2-4d84-ffae-ad43e37b0d4a",
        "colab": {
          "base_uri": "https://localhost:8080/",
          "height": 369
        }
      },
      "source": [
        "# Dataset 구성\n",
        "\n",
        "# MNIST Dataset이 저장되어 있는 어딘가에서 MNIST Dataset을 가져옵니다\n",
        "(x_train, y_train), (x_test, y_test) = mnist.load_data()\n",
        "\n",
        "# Training Set의 모양을 한번 봅시다\n",
        "print('x_train :', np.shape(x_train))\n",
        "print('y_train :', np.shape(y_train))\n",
        "\n",
        "# 한 번 Dataset에 무엇이 들어있는지 Test Set의 10개만 봅시다\n",
        "for i in range(10):\n",
        "  cv2_imshow(x_test[i])"
      ],
      "execution_count": 0,
      "outputs": [
        {
          "output_type": "stream",
          "text": [
            "Downloading data from https://s3.amazonaws.com/img-datasets/mnist.npz\n",
            "11493376/11490434 [==============================] - 1s 0us/step\n",
            "x_train : (60000, 28, 28)\n",
            "y_train : (60000,)\n"
          ],
          "name": "stdout"
        },
        {
          "output_type": "display_data",
          "data": {
            "image/png": "[encoded data removed]",
            "text/plain": [
              "<PIL.Image.Image image mode=L size=28x28 at 0x7F166682A9E8>"
            ]
          },
          "metadata": {
            "tags": []
          }
        },
        {
          "output_type": "display_data",
          "data": {
            "image/png": "[encoded data removed]",
            "text/plain": [
              "<PIL.Image.Image image mode=L size=28x28 at 0x7F16668375F8>"
            ]
          },
          "metadata": {
            "tags": []
          }
        },
        {
          "output_type": "display_data",
          "data": {
            "image/png": "[encoded data removed]",
            "text/plain": [
              "<PIL.Image.Image image mode=L size=28x28 at 0x7F166682A9E8>"
            ]
          },
          "metadata": {
            "tags": []
          }
        },
        {
          "output_type": "display_data",
          "data": {
            "image/png": "[encoded data removed]",
            "text/plain": [
              "<PIL.Image.Image image mode=L size=28x28 at 0x7F16668375F8>"
            ]
          },
          "metadata": {
            "tags": []
          }
        },
        {
          "output_type": "display_data",
          "data": {
            "image/png": "[encoded data removed]",
            "text/plain": [
              "<PIL.Image.Image image mode=L size=28x28 at 0x7F166682A9E8>"
            ]
          },
          "metadata": {
            "tags": []
          }
        },
        {
          "output_type": "display_data",
          "data": {
            "image/png": "[encoded data removed]",
            "text/plain": [
              "<PIL.Image.Image image mode=L size=28x28 at 0x7F16668375F8>"
            ]
          },
          "metadata": {
            "tags": []
          }
        },
        {
          "output_type": "display_data",
          "data": {
            "image/png": "[encoded data removed]",
            "text/plain": [
              "<PIL.Image.Image image mode=L size=28x28 at 0x7F166682A9E8>"
            ]
          },
          "metadata": {
            "tags": []
          }
        },
        {
          "output_type": "display_data",
          "data": {
            "image/png": "[encoded data removed]",
            "text/plain": [
              "<PIL.Image.Image image mode=L size=28x28 at 0x7F16668375F8>"
            ]
          },
          "metadata": {
            "tags": []
          }
        },
        {
          "output_type": "display_data",
          "data": {
            "image/png": "[encoded data removed]",
            "text/plain": [
              "<PIL.Image.Image image mode=L size=28x28 at 0x7F166682A9E8>"
            ]
          },
          "metadata": {
            "tags": []
          }
        },
        {
          "output_type": "display_data",
          "data": {
            "image/png": "[encoded data removed]",
            "text/plain": [
              "<PIL.Image.Image image mode=L size=28x28 at 0x7F16668375F8>"
            ]
          },
          "metadata": {
            "tags": []
          }
        }
      ]
    },
    {
      "cell_type": "code",
      "metadata": {
        "id": "mwzinuCYQqbB",
        "colab_type": "code",
        "outputId": "5642c19f-d1e4-444b-9df6-92391ffa6d9c",
        "colab": {
          "base_uri": "https://localhost:8080/",
          "height": 71
        }
      },
      "source": [
        "# Dataset 전처리\n",
        "\n",
        "# Loss의 스케일 조정을 위해 0 ~ 255 -> 0 ~ 1 범위로 만들어줍니다\n",
        "# CNN은 2D (28*28) 그대로 입력하지만 channel로 인해 차원을 추가해야 합니다.\n",
        "x_train = x_train.reshape(60000, 28, 28, 1).astype('float32') / 255.0\n",
        "x_test = x_test.reshape(10000, 28, 28, 1).astype('float32') / 255.0\n",
        "\n",
        "# One-Hot Encoding (숫자 -> One-Hot Vector) \n",
        "y_train = np_utils.to_categorical(y_train)\n",
        "y_test = np_utils.to_categorical(y_test)\n",
        "\n",
        "print('y_train :', np.shape(y_train))\n",
        "\n",
        "# Training Set 60000개중 10000개를 떼서 Validation Set을 만들어줍시다 \n",
        "x_valid = x_train[50000:]\n",
        "y_valid = y_train[50000:]\n",
        "x_train = x_train[:50000]\n",
        "y_train = y_train[:50000]\n",
        "\n",
        "print('x_train :', np.shape(x_train))\n",
        "print('x_valid :', np.shape(x_valid))"
      ],
      "execution_count": 0,
      "outputs": [
        {
          "output_type": "stream",
          "text": [
            "y_train : (60000, 10)\n",
            "x_train : (50000, 28, 28, 1)\n",
            "x_valid : (10000, 28, 28, 1)\n"
          ],
          "name": "stdout"
        }
      ]
    },
    {
      "cell_type": "code",
      "metadata": {
        "id": "FgttuwpxlSb1",
        "colab_type": "code",
        "outputId": "edddbab6-7f0b-483a-a336-20ed8059d856",
        "colab": {
          "base_uri": "https://localhost:8080/",
          "height": 667
        }
      },
      "source": [
        "# 모델 구성하기\n",
        "\n",
        "# 너비, 높이, 채널(RGB) 설정\n",
        "width = 28\n",
        "height = 28\n",
        "channel = 1\n",
        "\n",
        "# 순차적 모델을 만들기 위한 Sequential() 함수\n",
        "model = Sequential(name='MNIST_CNN')\n",
        "\n",
        "# filters : Kernel의 갯수 / kernel_size : Kernel 크기\n",
        "model.add(Conv2D(filters=32, kernel_size=(3, 3), activation='relu', input_shape=(width, height, channel)))\n",
        "model.add(Conv2D(filters=32, kernel_size=(3, 3), activation='relu'))\n",
        "\n",
        "# pool_size : MaxPooling 의 Window size\n",
        "model.add(MaxPooling2D(pool_size=(2, 2)))\n",
        "\n",
        "model.add(Conv2D(filters=64, kernel_size=(3, 3), activation='relu'))\n",
        "model.add(Conv2D(filters=64, kernel_size=(3, 3), activation='relu'))\n",
        "model.add(MaxPooling2D(pool_size=(2, 2)))\n",
        "\n",
        "# N차원 배열을 1차원으로 펴줍니다\n",
        "model.add(Flatten())\n",
        "\n",
        "# 두 층 MLP\n",
        "model.add(Dense(512, activation='relu'))\n",
        "model.add(Dense(10, activation='softmax'))\n",
        "\n",
        "model.summary()\n",
        "\n",
        "# MLP 층이 훨씬 가중치를 많이 필요로 한다는 것을 확인할 수 있습니다."
      ],
      "execution_count": 0,
      "outputs": [
        {
          "output_type": "stream",
          "text": [
            "WARNING: Logging before flag parsing goes to stderr.\n",
            "W0904 09:26:18.263401 139735830140800 deprecation_wrapper.py:119] From /usr/local/lib/python3.6/dist-packages/keras/backend/tensorflow_backend.py:66: The name tf.get_default_graph is deprecated. Please use tf.compat.v1.get_default_graph instead.\n",
            "\n",
            "W0904 09:26:18.307159 139735830140800 deprecation_wrapper.py:119] From /usr/local/lib/python3.6/dist-packages/keras/backend/tensorflow_backend.py:541: The name tf.placeholder is deprecated. Please use tf.compat.v1.placeholder instead.\n",
            "\n",
            "W0904 09:26:18.315181 139735830140800 deprecation_wrapper.py:119] From /usr/local/lib/python3.6/dist-packages/keras/backend/tensorflow_backend.py:4432: The name tf.random_uniform is deprecated. Please use tf.random.uniform instead.\n",
            "\n",
            "W0904 09:26:18.360210 139735830140800 deprecation_wrapper.py:119] From /usr/local/lib/python3.6/dist-packages/keras/backend/tensorflow_backend.py:4267: The name tf.nn.max_pool is deprecated. Please use tf.nn.max_pool2d instead.\n",
            "\n"
          ],
          "name": "stderr"
        },
        {
          "output_type": "stream",
          "text": [
            "Model: \"MNIST_CNN\"\n",
            "_________________________________________________________________\n",
            "Layer (type)                 Output Shape              Param #   \n",
            "=================================================================\n",
            "conv2d_1 (Conv2D)            (None, 26, 26, 32)        320       \n",
            "_________________________________________________________________\n",
            "conv2d_2 (Conv2D)            (None, 24, 24, 32)        9248      \n",
            "_________________________________________________________________\n",
            "max_pooling2d_1 (MaxPooling2 (None, 12, 12, 32)        0         \n",
            "_________________________________________________________________\n",
            "conv2d_3 (Conv2D)            (None, 10, 10, 64)        18496     \n",
            "_________________________________________________________________\n",
            "conv2d_4 (Conv2D)            (None, 8, 8, 64)          36928     \n",
            "_________________________________________________________________\n",
            "max_pooling2d_2 (MaxPooling2 (None, 4, 4, 64)          0         \n",
            "_________________________________________________________________\n",
            "flatten_1 (Flatten)          (None, 1024)              0         \n",
            "_________________________________________________________________\n",
            "dense_1 (Dense)              (None, 512)               524800    \n",
            "_________________________________________________________________\n",
            "dense_2 (Dense)              (None, 10)                5130      \n",
            "=================================================================\n",
            "Total params: 594,922\n",
            "Trainable params: 594,922\n",
            "Non-trainable params: 0\n",
            "_________________________________________________________________\n"
          ],
          "name": "stdout"
        }
      ]
    },
    {
      "cell_type": "code",
      "metadata": {
        "id": "uXo4R31Uhc_x",
        "colab_type": "code",
        "outputId": "de1c63de-a83a-4263-a7a6-3aebd8a837b0",
        "colab": {
          "base_uri": "https://localhost:8080/",
          "height": 577
        }
      },
      "source": [
        "# 모델 학습과정 설정하기\n",
        "\n",
        "# loss : 목적 함수\n",
        "# categorical_crossentropy : 분류가 2개 이상인 CEE\n",
        "# optimizer : 학습 방법, SGD를 사용합니다.\n",
        "# metrics : 학습 도중 화면에 어떤 값을 띄울까를 결정합니다.\n",
        "model.compile(loss='categorical_crossentropy', optimizer='sgd', metrics=['accuracy'])\n",
        "\n",
        "# 모델 학습시키기\n",
        "# hist는 Epoch 당 학습 결과를 갖게 됩니다.\n",
        "hist = model.fit(x_train, y_train,\n",
        "                 epochs=10,\n",
        "                 batch_size=32,\n",
        "                 validation_data=(x_valid, y_valid))"
      ],
      "execution_count": 0,
      "outputs": [
        {
          "output_type": "stream",
          "text": [
            "W0904 09:27:40.567057 139735830140800 deprecation_wrapper.py:119] From /usr/local/lib/python3.6/dist-packages/keras/optimizers.py:793: The name tf.train.Optimizer is deprecated. Please use tf.compat.v1.train.Optimizer instead.\n",
            "\n",
            "W0904 09:27:40.605018 139735830140800 deprecation_wrapper.py:119] From /usr/local/lib/python3.6/dist-packages/keras/backend/tensorflow_backend.py:3576: The name tf.log is deprecated. Please use tf.math.log instead.\n",
            "\n",
            "W0904 09:27:40.735448 139735830140800 deprecation.py:323] From /usr/local/lib/python3.6/dist-packages/tensorflow/python/ops/math_grad.py:1250: add_dispatch_support.<locals>.wrapper (from tensorflow.python.ops.array_ops) is deprecated and will be removed in a future version.\n",
            "Instructions for updating:\n",
            "Use tf.where in 2.0, which has the same broadcast rule as np.where\n",
            "W0904 09:27:40.950257 139735830140800 deprecation_wrapper.py:119] From /usr/local/lib/python3.6/dist-packages/keras/backend/tensorflow_backend.py:1033: The name tf.assign_add is deprecated. Please use tf.compat.v1.assign_add instead.\n",
            "\n"
          ],
          "name": "stderr"
        },
        {
          "output_type": "stream",
          "text": [
            "Train on 50000 samples, validate on 10000 samples\n",
            "Epoch 1/10\n",
            "50000/50000 [==============================] - 23s 454us/step - loss: 0.5391 - acc: 0.8289 - val_loss: 0.1222 - val_acc: 0.9628\n",
            "Epoch 2/10\n",
            "50000/50000 [==============================] - 16s 326us/step - loss: 0.0969 - acc: 0.9704 - val_loss: 0.0753 - val_acc: 0.9775\n",
            "Epoch 3/10\n",
            "50000/50000 [==============================] - 16s 325us/step - loss: 0.0659 - acc: 0.9797 - val_loss: 0.0668 - val_acc: 0.9813\n",
            "Epoch 4/10\n",
            "50000/50000 [==============================] - 16s 323us/step - loss: 0.0510 - acc: 0.9840 - val_loss: 0.0829 - val_acc: 0.9740\n",
            "Epoch 5/10\n",
            "50000/50000 [==============================] - 16s 324us/step - loss: 0.0415 - acc: 0.9870 - val_loss: 0.0591 - val_acc: 0.9819\n",
            "Epoch 6/10\n",
            "50000/50000 [==============================] - 16s 326us/step - loss: 0.0348 - acc: 0.9885 - val_loss: 0.0501 - val_acc: 0.9854\n",
            "Epoch 7/10\n",
            "50000/50000 [==============================] - 16s 323us/step - loss: 0.0292 - acc: 0.9902 - val_loss: 0.0559 - val_acc: 0.9844\n",
            "Epoch 8/10\n",
            "50000/50000 [==============================] - 16s 321us/step - loss: 0.0237 - acc: 0.9925 - val_loss: 0.0436 - val_acc: 0.9869\n",
            "Epoch 9/10\n",
            "50000/50000 [==============================] - 16s 320us/step - loss: 0.0209 - acc: 0.9933 - val_loss: 0.0461 - val_acc: 0.9874\n",
            "Epoch 10/10\n",
            "50000/50000 [==============================] - 16s 321us/step - loss: 0.0168 - acc: 0.9947 - val_loss: 0.0486 - val_acc: 0.9868\n"
          ],
          "name": "stdout"
        }
      ]
    },
    {
      "cell_type": "code",
      "metadata": {
        "id": "ivatQxiQhdCd",
        "colab_type": "code",
        "outputId": "ab749ac5-0ed9-48c6-f17b-f098c66fcd91",
        "colab": {
          "base_uri": "https://localhost:8080/",
          "height": 283
        }
      },
      "source": [
        "# 그래프를 그리기 위한 matplotlib 라이브러리\n",
        "import matplotlib.pyplot as plt\n",
        "\n",
        "# Training Loss VS Validation Loss 비교를 위한 그래프 그리기 \n",
        "plt.plot(hist.history['loss'], 'y', label='train loss')\n",
        "plt.plot(hist.history['val_loss'], 'r', label='val loss')\n",
        "\n",
        "# y축 범위 설정\n",
        "plt.ylim([0.0, 0.6])\n",
        "\n",
        "# 각 축의 이름 정하기\n",
        "plt.xlabel('epoch')\n",
        "plt.ylabel('loss')\n",
        "\n",
        "# 각 그래프의 설명 위치 설정 후 표시\n",
        "plt.legend(loc='upper left')\n",
        "\n",
        "plt.show()"
      ],
      "execution_count": 0,
      "outputs": [
        {
          "output_type": "display_data",
          "data": {
            "image/png": "[encoded data removed]",
            "text/plain": [
              "<Figure size 432x288 with 1 Axes>"
            ]
          },
          "metadata": {
            "tags": []
          }
        }
      ]
    },
    {
      "cell_type": "code",
      "metadata": {
        "id": "rFkeOXIwnFw_",
        "colab_type": "code",
        "outputId": "884e41a3-b102-4581-da67-24b6f29a948b",
        "colab": {
          "base_uri": "https://localhost:8080/",
          "height": 283
        }
      },
      "source": [
        "# Training Accuracy VS Validation Accuracy 비교를 위한 그래프 그리기 \n",
        "plt.plot(hist.history['acc'], 'b', label='train acc')\n",
        "plt.plot(hist.history['val_acc'], 'g', label='val acc')\n",
        "\n",
        "# y축 범위 설정\n",
        "plt.ylim([0.8, 1.0])\n",
        "\n",
        "# 각 축의 이름 정하기\n",
        "plt.xlabel('epoch')\n",
        "plt.ylabel('accuracy')\n",
        "\n",
        "# 각 그래프의 설명 위치 설정 후 표시\n",
        "plt.legend(loc='upper left')\n",
        "\n",
        "# 그래프 그리기\n",
        "plt.show()"
      ],
      "execution_count": 0,
      "outputs": [
        {
          "output_type": "display_data",
          "data": {
            "image/png": "[encoded data removed]",
            "text/plain": [
              "<Figure size 432x288 with 1 Axes>"
            ]
          },
          "metadata": {
            "tags": []
          }
        }
      ]
    },
    {
      "cell_type": "code",
      "metadata": {
        "id": "i6SyLlkPhdEi",
        "colab_type": "code",
        "outputId": "d3284103-3c78-4656-bdb6-b93b694496e4",
        "colab": {
          "base_uri": "https://localhost:8080/",
          "height": 71
        }
      },
      "source": [
        "#모델 평가\n",
        "loss_and_acc = model.evaluate(x_test, y_test, batch_size=32)\n",
        "print('Test set Loss and Accuracy')\n",
        "print(loss_and_acc)"
      ],
      "execution_count": 0,
      "outputs": [
        {
          "output_type": "stream",
          "text": [
            "10000/10000 [==============================] - 1s 111us/step\n",
            "Test set Loss and Accuracy\n",
            "[0.036314251912328475, 0.9893]\n"
          ],
          "name": "stdout"
        }
      ]
    },
    {
      "cell_type": "code",
      "metadata": {
        "id": "Lg4jmjOChdGs",
        "colab_type": "code",
        "outputId": "fab256c3-ef17-4c81-c881-1bd176fb3428",
        "colab": {
          "base_uri": "https://localhost:8080/",
          "height": 937
        }
      },
      "source": [
        "# 모델을 직접 써봅시다\n",
        "\n",
        "# Test Set 20개를 맞춰봅시다\n",
        "for i in range(20):\n",
        "  \n",
        "  # predict()를 통해 입력을 모델에 통과시킬 수 있습니다\n",
        "  # output은 softmax의 출력으로 10개의 값을 갖습니다\n",
        "  output = model.predict(x_test[i].reshape(1,28, 28, 1))\n",
        "  # predict()의 입력은 맨 앞에 차원을 하나 추가해주어야 합니다. 나중에 배웁니다\n",
        "  \n",
        "  # 이미지를 보기 위해 다시 사각형으로 만들고, 다시 255를 곱해줍니다\n",
        "  cv2_imshow(x_test[i].reshape(28, 28) * 255)\n",
        "  \n",
        "  # argmax() 함수는 가장 최댓값을 갖는 Index(번째)를 찾아줍니다\n",
        "  print('예상 숫자 분류 :', np.argmax(output))\n",
        "  \n",
        "  # 모델의 출력과 실제 값을 비교 후 다르면 문장을 출력합니다\n",
        "  if np.argmax(output) != np.argmax(y_test[i]) :\n",
        "    print('틀렸습니다!')"
      ],
      "execution_count": 0,
      "outputs": [
        {
          "output_type": "display_data",
          "data": {
            "image/png": "[encoded data removed]",
            "text/plain": [
              "<PIL.Image.Image image mode=L size=28x28 at 0x7F16177C4358>"
            ]
          },
          "metadata": {
            "tags": []
          }
        },
        {
          "output_type": "stream",
          "text": [
            "예상 숫자 분류 : 7\n"
          ],
          "name": "stdout"
        },
        {
          "output_type": "display_data",
          "data": {
            "image/png": "[encoded data removed]",
            "text/plain": [
              "<PIL.Image.Image image mode=L size=28x28 at 0x7F16177C44E0>"
            ]
          },
          "metadata": {
            "tags": []
          }
        },
        {
          "output_type": "stream",
          "text": [
            "예상 숫자 분류 : 2\n"
          ],
          "name": "stdout"
        },
        {
          "output_type": "display_data",
          "data": {
            "image/png": "[encoded data removed]",
            "text/plain": [
              "<PIL.Image.Image image mode=L size=28x28 at 0x7F16177C4358>"
            ]
          },
          "metadata": {
            "tags": []
          }
        },
        {
          "output_type": "stream",
          "text": [
            "예상 숫자 분류 : 1\n"
          ],
          "name": "stdout"
        },
        {
          "output_type": "display_data",
          "data": {
            "image/png": "[encoded data removed]",
            "text/plain": [
              "<PIL.Image.Image image mode=L size=28x28 at 0x7F16177C44E0>"
            ]
          },
          "metadata": {
            "tags": []
          }
        },
        {
          "output_type": "stream",
          "text": [
            "예상 숫자 분류 : 0\n"
          ],
          "name": "stdout"
        },
        {
          "output_type": "display_data",
          "data": {
            "image/png": "[encoded data removed]",
            "text/plain": [
              "<PIL.Image.Image image mode=L size=28x28 at 0x7F16177C4048>"
            ]
          },
          "metadata": {
            "tags": []
          }
        },
        {
          "output_type": "stream",
          "text": [
            "예상 숫자 분류 : 4\n"
          ],
          "name": "stdout"
        },
        {
          "output_type": "display_data",
          "data": {
            "image/png": "[encoded data removed]",
            "text/plain": [
              "<PIL.Image.Image image mode=L size=28x28 at 0x7F16177C4780>"
            ]
          },
          "metadata": {
            "tags": []
          }
        },
        {
          "output_type": "stream",
          "text": [
            "예상 숫자 분류 : 1\n"
          ],
          "name": "stdout"
        },
        {
          "output_type": "display_data",
          "data": {
            "image/png": "[encoded data removed]",
            "text/plain": [
              "<PIL.Image.Image image mode=L size=28x28 at 0x7F16177C4240>"
            ]
          },
          "metadata": {
            "tags": []
          }
        },
        {
          "output_type": "stream",
          "text": [
            "예상 숫자 분류 : 4\n"
          ],
          "name": "stdout"
        },
        {
          "output_type": "display_data",
          "data": {
            "image/png": "[encoded data removed]",
            "text/plain": [
              "<PIL.Image.Image image mode=L size=28x28 at 0x7F16177C4358>"
            ]
          },
          "metadata": {
            "tags": []
          }
        },
        {
          "output_type": "stream",
          "text": [
            "예상 숫자 분류 : 9\n"
          ],
          "name": "stdout"
        },
        {
          "output_type": "display_data",
          "data": {
            "image/png": "[encoded data removed]",
            "text/plain": [
              "<PIL.Image.Image image mode=L size=28x28 at 0x7F16177C44A8>"
            ]
          },
          "metadata": {
            "tags": []
          }
        },
        {
          "output_type": "stream",
          "text": [
            "예상 숫자 분류 : 5\n"
          ],
          "name": "stdout"
        },
        {
          "output_type": "display_data",
          "data": {
            "image/png": "[encoded data removed]",
            "text/plain": [
              "<PIL.Image.Image image mode=L size=28x28 at 0x7F16177C4198>"
            ]
          },
          "metadata": {
            "tags": []
          }
        },
        {
          "output_type": "stream",
          "text": [
            "예상 숫자 분류 : 9\n"
          ],
          "name": "stdout"
        },
        {
          "output_type": "display_data",
          "data": {
            "image/png": "[encoded data removed]",
            "text/plain": [
              "<PIL.Image.Image image mode=L size=28x28 at 0x7F16177C4CC0>"
            ]
          },
          "metadata": {
            "tags": []
          }
        },
        {
          "output_type": "stream",
          "text": [
            "예상 숫자 분류 : 0\n"
          ],
          "name": "stdout"
        },
        {
          "output_type": "display_data",
          "data": {
            "image/png": "[encoded data removed]",
            "text/plain": [
              "<PIL.Image.Image image mode=L size=28x28 at 0x7F16177C4C50>"
            ]
          },
          "metadata": {
            "tags": []
          }
        },
        {
          "output_type": "stream",
          "text": [
            "예상 숫자 분류 : 6\n"
          ],
          "name": "stdout"
        },
        {
          "output_type": "display_data",
          "data": {
            "image/png": "[encoded data removed]",
            "text/plain": [
              "<PIL.Image.Image image mode=L size=28x28 at 0x7F16177C4A20>"
            ]
          },
          "metadata": {
            "tags": []
          }
        },
        {
          "output_type": "stream",
          "text": [
            "예상 숫자 분류 : 9\n"
          ],
          "name": "stdout"
        },
        {
          "output_type": "display_data",
          "data": {
            "image/png": "[encoded data removed]",
            "text/plain": [
              "<PIL.Image.Image image mode=L size=28x28 at 0x7F16177C4780>"
            ]
          },
          "metadata": {
            "tags": []
          }
        },
        {
          "output_type": "stream",
          "text": [
            "예상 숫자 분류 : 0\n"
          ],
          "name": "stdout"
        },
        {
          "output_type": "display_data",
          "data": {
            "image/png": "[encoded data removed]",
            "text/plain": [
              "<PIL.Image.Image image mode=L size=28x28 at 0x7F16177C4DA0>"
            ]
          },
          "metadata": {
            "tags": []
          }
        },
        {
          "output_type": "stream",
          "text": [
            "예상 숫자 분류 : 1\n"
          ],
          "name": "stdout"
        },
        {
          "output_type": "display_data",
          "data": {
            "image/png": "[encoded data removed]",
            "text/plain": [
              "<PIL.Image.Image image mode=L size=28x28 at 0x7F16177C4B38>"
            ]
          },
          "metadata": {
            "tags": []
          }
        },
        {
          "output_type": "stream",
          "text": [
            "예상 숫자 분류 : 5\n"
          ],
          "name": "stdout"
        },
        {
          "output_type": "display_data",
          "data": {
            "image/png": "[encoded data removed]",
            "text/plain": [
              "<PIL.Image.Image image mode=L size=28x28 at 0x7F16177C4B70>"
            ]
          },
          "metadata": {
            "tags": []
          }
        },
        {
          "output_type": "stream",
          "text": [
            "예상 숫자 분류 : 9\n"
          ],
          "name": "stdout"
        },
        {
          "output_type": "display_data",
          "data": {
            "image/png": "[encoded data removed]",
            "text/plain": [
              "<PIL.Image.Image image mode=L size=28x28 at 0x7F16177C4E48>"
            ]
          },
          "metadata": {
            "tags": []
          }
        },
        {
          "output_type": "stream",
          "text": [
            "예상 숫자 분류 : 7\n"
          ],
          "name": "stdout"
        },
        {
          "output_type": "display_data",
          "data": {
            "image/png": "[encoded data removed]",
            "text/plain": [
              "<PIL.Image.Image image mode=L size=28x28 at 0x7F16177C4EF0>"
            ]
          },
          "metadata": {
            "tags": []
          }
        },
        {
          "output_type": "stream",
          "text": [
            "예상 숫자 분류 : 3\n"
          ],
          "name": "stdout"
        },
        {
          "output_type": "display_data",
          "data": {
            "image/png": "[encoded data removed]",
            "text/plain": [
              "<PIL.Image.Image image mode=L size=28x28 at 0x7F16177C4F98>"
            ]
          },
          "metadata": {
            "tags": []
          }
        },
        {
          "output_type": "stream",
          "text": [
            "예상 숫자 분류 : 4\n"
          ],
          "name": "stdout"
        }
      ]
    },
    {
      "cell_type": "code",
      "metadata": {
        "id": "88IdAzb2hdKS",
        "colab_type": "code",
        "colab": {}
      },
      "source": [
        "# 본인의 구글 드라이브 → 지금 실행중인 코드\n",
        "\n",
        "# google.colab.drive : 구글 드라이브에서 파일을 가져오기 위한 코드를 담고 있다.\n",
        "from google.colab import drive\n",
        "\n",
        "# 본인의 구글 드라이브를 '/gdrive' 라는 경로로 하여 쓸 수 있다.\n",
        "drive.mount('/gdrive', force_remount=True)"
      ],
      "execution_count": 0,
      "outputs": []
    },
    {
      "cell_type": "code",
      "metadata": {
        "id": "TjHmpaF4sW6s",
        "colab_type": "code",
        "colab": {}
      },
      "source": [
        "# 모델은 h5 파일 형태로 저장됩니다\n",
        "model.save('/gdrive/My Drive/MNIST_CNN.h5')\n",
        "\n",
        "# 모델을 불러오기 위해 지워줍니다\n",
        "del model\n",
        "\n",
        "# 저장되어 있는 모델을 불러오기 위한 load_model 함수\n",
        "from keras.models import load_model\n",
        "\n",
        "# 'model' 에 해당 모델을 불러옵니다\n",
        "model = load_model('/gdrive/My Drive/MNIST_CNN.h5')"
      ],
      "execution_count": 0,
      "outputs": []
    }
  ]
}